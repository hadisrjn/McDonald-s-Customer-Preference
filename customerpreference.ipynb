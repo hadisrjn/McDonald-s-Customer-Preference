{
 "cells": [
  {
   "cell_type": "markdown",
   "id": "89b15055-1d77-4475-9fb3-44b76c93a60d",
   "metadata": {},
   "source": [
    "# <font color=\"blue\">Effect add a free soda on consumer preference</font>"
   ]
  },
  {
   "cell_type": "markdown",
   "id": "9aa58bfd-a858-45ce-b974-6e2451c7e0bb",
   "metadata": {},
   "source": [
    "base on this article : A STUDY ON CUSTOMER PREFERENCE AND SATISFACTION TOWARDS SOFT DRINKS SPECIAL REFERENCE WITH COCO COLA IN TIRUPUR CITY\n",
    "\n",
    "we found this data : \n",
    "\n",
    "Packaging Score: 3.55\r\n",
    "Taste Score: 3.6"
   ]
  },
  {
   "cell_type": "code",
   "execution_count": 12,
   "id": "c05f6588-84a3-4104-9d2d-0cd012ca211b",
   "metadata": {},
   "outputs": [],
   "source": [
    "b1=3.55\n",
    "b2=3.6"
   ]
  },
  {
   "cell_type": "markdown",
   "id": "67e372ec-0fcd-4535-bffe-17e834218c4c",
   "metadata": {},
   "source": [
    "Using the regression coefficients provided in the article, 0.397 for packaging and 0.468 for taste, we can estimate their effect on consumer preference for soft drinks. The formula to predict consumer preference ($CP$) based on these findings is outlined as follows:\n",
    "\n",
    "$$ CP = \\beta_0 + (\\beta_1 \\times \\text{Packaging}) + (\\beta_2 \\times \\text{Taste}) $$\n",
    "\n",
    "In this formula:\n",
    "- $CP$ represents consumer preference.\n",
    "- $\\beta_0$ is the intercept of the regression equation. Assuming the intercept ($\\beta_0$) is not provided and not critical for this demonstration, we will focus on the contribution of packaging and taste to consumer preference.\n",
    "- $\\beta_1$ is the coefficient for packaging, indicating the change in $CP$ for a one-unit increase in packaging score.\n",
    "- $\\beta_2$ is the coefficient for taste, indicating the change in $CP$ for a one-unit increase in taste score.\n",
    "- \"Packaging\" and \"Taste\" are the independent variables representing the scores for packaging and taste, respectively.\n",
    "\n",
    "Given this model, by substituting the specific scores for packaging and taste, we can predict the impact these variables have on consumer preference for a new soft drink product.\n"
   ]
  },
  {
   "cell_type": "code",
   "execution_count": 10,
   "id": "74e27794-0441-4c94-8640-31a2cbfbefeb",
   "metadata": {},
   "outputs": [
    {
     "name": "stdout",
     "output_type": "stream",
     "text": [
      "effect add a new soda on consumer preference is :  33.255\n"
     ]
    }
   ],
   "source": [
    "# Coefficients for packaging and taste\n",
    "beta_packaging = b1\n",
    "beta_taste = b2\n",
    "\n",
    "# Hypothetical scores for Coca-Cola Dark\n",
    "score_packaging = 4.5\n",
    "score_taste = 4.8\n",
    "\n",
    "# Calculating the effect on consumer preference\n",
    "cp_effect = (beta_packaging * score_packaging) + (beta_taste * score_taste)\n",
    "print(\"effect add a new soda on consumer preference is : \",cp_effect)\n"
   ]
  },
  {
   "cell_type": "code",
   "execution_count": null,
   "id": "3ac5d2fc-0852-4583-ac2c-a4c228a3479a",
   "metadata": {},
   "outputs": [],
   "source": []
  }
 ],
 "metadata": {
  "kernelspec": {
   "display_name": "Python 3 (ipykernel)",
   "language": "python",
   "name": "python3"
  },
  "language_info": {
   "codemirror_mode": {
    "name": "ipython",
    "version": 3
   },
   "file_extension": ".py",
   "mimetype": "text/x-python",
   "name": "python",
   "nbconvert_exporter": "python",
   "pygments_lexer": "ipython3",
   "version": "3.12.1"
  }
 },
 "nbformat": 4,
 "nbformat_minor": 5
}
